{
  "nbformat": 4,
  "nbformat_minor": 0,
  "metadata": {
    "colab": {
      "name": "assignment1.ipynb",
      "provenance": [],
      "authorship_tag": "ABX9TyMkC14mvfpV/TT2yfFTlRCi",
      "include_colab_link": true
    },
    "kernelspec": {
      "name": "python3",
      "display_name": "Python 3"
    },
    "language_info": {
      "name": "python"
    }
  },
  "cells": [
    {
      "cell_type": "markdown",
      "metadata": {
        "id": "view-in-github",
        "colab_type": "text"
      },
      "source": [
        "<a href=\"https://colab.research.google.com/github/swetharam2002/python-zero-to-hero-/blob/main/assignment1.ipynb\" target=\"_parent\"><img src=\"https://colab.research.google.com/assets/colab-badge.svg\" alt=\"Open In Colab\"/></a>"
      ]
    },
    {
      "cell_type": "code",
      "metadata": {
        "colab": {
          "base_uri": "https://localhost:8080/"
        },
        "id": "0XasnAFQWRm8",
        "outputId": "76f3541b-1ea0-421f-cf81-dec3d0edb206"
      },
      "source": [
        "#to find ascending and descending order of list\n",
        "x=[12,10,72,23,19]\n",
        "x.sort()\n",
        "print(\"ascending order\")\n",
        "print(x)\n",
        "print(type(x))\n",
        "x.reverse()\n",
        "print(\"descending order\")\n",
        "print(x)\n",
        "print(type(x))"
      ],
      "execution_count": null,
      "outputs": [
        {
          "output_type": "stream",
          "text": [
            "ascending order\n",
            "[10, 12, 19, 23, 72]\n",
            "<class 'list'>\n",
            "descending order\n",
            "[72, 23, 19, 12, 10]\n",
            "<class 'list'>\n"
          ],
          "name": "stdout"
        }
      ]
    },
    {
      "cell_type": "code",
      "metadata": {
        "id": "UTQ-eDPJZ_a-"
      },
      "source": [
        ""
      ],
      "execution_count": null,
      "outputs": []
    }
  ]
}